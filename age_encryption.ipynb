{
 "cells": [
  {
   "cell_type": "markdown",
   "metadata": {
    "id": "fKLF-kfeVpP7"
   },
   "source": [
    "# **An Introduction to Cryptography Engineering with age**\n",
    "\n",
    "---\n",
    "\n",
    "\n",
    "\n",
    "**Student ID:** *put your student ID here!*\n",
    "\n",
    "*Table of contents:*\n",
    "\n",
    "- [Setup code](#setup-code-cell)\n",
    "- [Introduction](#intro)\n",
    "- [Scrypt: generating the wrap key](#wrap-key)\n",
    "- [ChaCha20-Poly1305: decrypting the file key](#file-key)\n",
    "- [HKDF: generating the payload key](#payload-key)\n",
    "- [HMAC: authenticating the header](#header-hmac)\n",
    "- [Decrypting the payload](#payload-decryption)\n",
    "- [Putting it all together](#e2e-demo)"
   ]
  },
  {
   "cell_type": "code",
   "execution_count": null,
   "metadata": {
    "cellView": "form",
    "id": "rIrV6Ta7oO-d"
   },
   "outputs": [],
   "source": [
    "# @title **Setup** <a name=\"setup-code-cell\"></a>\n",
    "# @markdown **Make sure to run this cell before working on the rest of this notebook!**\n",
    "# @markdown\n",
    "# @markdown This cell will install dependencies that you need to run the rest of\n",
    "# @markdown this notebook. It also defines `b64encode` and `b64decode` functions\n",
    "# @markdown that you will need to encode and decode data using\n",
    "# @markdown [Base64](https://en.wikipedia.org/wiki/Base64).\n",
    "\n",
    "print(\"Installing dependencies...\")\n",
    "\n",
    "!pip install -q 'cryptography==37.0.2' 'rich[jupyter]'\n",
    "\n",
    "import base64 as _base64\n",
    "from rich import print as rich_print\n",
    "\n",
    "def b64encode(data: bytes) -> bytes:\n",
    "    \"\"\"Base64-encode a string or byte string without padding.\"\"\"\n",
    "    data = _base64.b64encode(data)\n",
    "    return data.replace(b\"=\", b\"\")\n",
    "\n",
    "\n",
    "def b64decode(data: bytes) -> bytes:\n",
    "    \"\"\"Base64-decode a byte string without padding.\"\"\"\n",
    "    data += b\"=\" * (-len(data) % 4)\n",
    "    return _base64.b64decode(data)\n",
    "\n",
    "### Test cases generated from various age files\n",
    "\n",
    "import dataclasses\n",
    "from typing import Tuple\n",
    "\n",
    "@dataclasses.dataclass\n",
    "class AgeFileTestCase:\n",
    "    password: bytes\n",
    "    scrypt_salt: bytes\n",
    "    scrypt_work_factor: int\n",
    "    wrap_key: bytes\n",
    "\n",
    "    file_key: bytes\n",
    "    file_key_encrypted: bytes\n",
    "\n",
    "    header_mac: bytes\n",
    "    \n",
    "    payload_key: bytes\n",
    "    payload: bytes\n",
    "\n",
    "    def generate_header(self) -> bytes:\n",
    "        header = b\"age-encryption.org/v1\\n\"\n",
    "        header += b\"-> scrypt \" + self.scrypt_salt + b\" \" + str(self.scrypt_work_factor).encode(\"utf-8\") + b\"\\n\"\n",
    "        header += self.file_key_encrypted + b\"\\n\"\n",
    "        header += b\"---\"\n",
    "        return header\n",
    "\n",
    "    def test_wrap_key_args(self) -> Tuple[bytes, bytes, int, bytes]:\n",
    "        return (self.password, self.scrypt_salt, self.scrypt_work_factor, self.wrap_key)\n",
    "\n",
    "    def __repr__(self) -> str:\n",
    "        fields = dataclasses.asdict(self)\n",
    "        fields = \"\\n\".join(f\"  {key:<20s} = {val!r}\" for (key, val) in fields.items())\n",
    "        return f\"{self.__class__.__name__}:\\n\" + fields\n",
    "\n",
    "\n",
    "TEST_CASES = []\n",
    "\n",
    "###########################################################\n",
    "# TEST CASE\n",
    "#\n",
    "# Generated with: rage -e -p -o /dev/stdout <(echo \"hello, world\" | tee input.txt) | tee output.age | strings\n",
    "\n",
    "test_case = AgeFileTestCase(\n",
    "    password = b\"teach-wet-adjust-lucky-stand-order-north-release-avocado-text\",\n",
    "    scrypt_salt = b\"AyKPpy4hAnp306wrAoIpeA\",\n",
    "    scrypt_work_factor = 19,\n",
    "    wrap_key = b\"C\\xef\\xab\\x81\\x86\\xc9\\xd6\\xad\\x98\\x1e\\x81J\\x18\\xe6F|=\\x98\\x15\\xe2\\xb6~K\\xf0\\xef\\x9c\\xfa\\xf0\\xbb\\xdd:D\",\n",
    "    file_key_encrypted = b\"hQqSsgO3IcqsRySXWWsFgYfoozZ3ezpYayw7KqmaNy4\",\n",
    "    file_key = b\"\\x1f\\x07e/\\xe7\\x14\\xf5@Pa\\x1f5\\xb38s#\",\n",
    "    header_mac = b\"6puD87ToLSviw+26C02WXaJSukkd2i9x3093F+6g+D8\",\n",
    "    payload_key = b'\\x15`\\x8c\\xa0\\xfe\\x88\\xc7kh\\xe1\\xe6\\xb4\\xa0\\xcb\\xfd\\xf8\\xf6`\\xf6\\x8b\\x12\\xa9\\xbc\\xc8q$\\x10\\xab\\x11q\\x04\\xf5',\n",
    "    payload = b\"tF\\x14\\x00\\x06\\x9f\\xed\\xd3G\\x07\\xbf\\x00\\xcf\\x9d<\\x99\\xf8\\x7fA\\xea\\x82l\\x9f\\xa3\\xb44\\x8bq$\\x08\\x8e\\xb5\\x1fl\\x94)\\xfb\\x86@\\xee\\xa8\\xeeU\\xad\\xd2\",\n",
    ")\n",
    "TEST_CASES.append(test_case)\n",
    "\n",
    "###########################################################\n",
    "# TEST START\n",
    "#\n",
    "# Generated with: rage -e -p -o /dev/stdout <(echo \"age-encryption.org\" | tee input.txt) | tee output.age | strings\n",
    "\n",
    "test_case = AgeFileTestCase(\n",
    "    password = b\"owner-better-crawl-morning-engine-burden-pottery-fitness-three-else\",\n",
    "    scrypt_salt = b\"QsX8Fvngakq5II6tR2edKQ\",\n",
    "    scrypt_work_factor = 18,\n",
    "    wrap_key = b\"\\xa7\\x1dR\\xb1BI\\xb6~V\\x0e[I\\x97#\\x8b\\x1d&\\xc8\\xa2\\xb8\\x93\\\"3\\xb6\\xc8\\x89:\\x8a\\x04\\xb2\\xd2b\",\n",
    "    file_key_encrypted = b\"Ycr2xcHYC5GNtqklqYJDsCzda4pQDOoyW3UJwqmZ6pg\",\n",
    "    file_key = b\"w9\\xc1\\xbd\\xce&\\x1e\\xee\\x83pE\\xd6dh{\\x9d\",\n",
    "    header_mac = b\"RzzVioP4Lq9yOcmge+8QVIEONAaqt87NY2CMIpmvM1c\",\n",
    "    payload_key = b'\\xbbS\\xde\\xf9\\xc7\\xd1{\\xa8\\xe8O\\x80\\xa7^(,<\\x08\\xc7%CK\\x93\\xbd|w\\t1\\xe1\\x15\\x83\\x9e5',\n",
    "    payload = b\"\\xf7\\xd1A\\xa3,Y\\xb5\\xdd\\xd8\\r\\xc2\\xcfD\\xef\\xd5\\x01\\x84\\x1fX*i\\x92\\x05\\xdc\\xa3\\x9fz\\xd0\\xee\\xfe\\xfe\\x1b9\\x15\\x9c\\x93\\x85\\xf5Dh\\xed\\xbfQ\\xd3\\x06<\\x9d\\xc5\\xa9\\xb1\\x9a\",\n",
    ")\n",
    "TEST_CASES.append(test_case)\n",
    "\n",
    "###########################################################\n",
    "# TEST START\n",
    "#\n",
    "# Generated with: rage -e -p -o /dev/stdout <(echo \"cryptography\" | tee input.txt) | tee output.age | strings\n",
    "\n",
    "test_case = AgeFileTestCase(\n",
    "    password = b\"riot-alcohol-forum-fire-silent-trust-surface-enough-offer-viable\",\n",
    "    scrypt_salt = b\"EV2eaSAcbT+wI2aub+KDLA\",\n",
    "    scrypt_work_factor = 18,\n",
    "    wrap_key = b\"\\xd8$\\xac0\\x03;\\x8c71\\xb1\\\\\\xf3\\xf2?\\xad\\x02(P\\x88\\xb0\\x1c\\x13<}u.-k\\xb6;)\\xd2\",\n",
    "    file_key_encrypted = b\"/CoZrZZ+2wmAhYghZKEAemf9Y12fOwsjtSIkCf2nA2k\",\n",
    "    file_key = b\"cU\\xa3\\x16;Z<\\x00Y\\x1a\\x11\\xd3g\\\\\\xf0}\",\n",
    "    header_mac = b\"HPQQmI4+UMWasD7mnpR5+i5EdG9nReNLWuTED/ASoA0\",\n",
    "    payload_key = b\"'7\\x95\\xcc\\xd5sT\\xad\\xcd_J\\xb7S;\\xff\\xc9\\xa7\\xb3\\xbc\\xd3\\xaa\\x15\\xe0aU\\xc3\\x08q\\xd4c\\x88g\",\n",
    "    payload = b\"^U\\xe0\\x91\\x17f\\xd4^\\x05\\x7f\\x1b\\xe3\\x85G\\x95\\xc6^\\xacwRe\\xf5\\x08\\xb4\\xd7BgzP\\x01\\xe66\\x91\\xe7\\x94R$\\x1b,[\\xf2;\\xbd\\x90\\x13\",\n",
    ")\n",
    "TEST_CASES.append(test_case)\n",
    "\n",
    "###########################################################\n",
    "\n",
    "# Utilities for reading and parsing age files\n",
    "\n",
    "from dataclasses import dataclass\n",
    "\n",
    "@dataclass\n",
    "class AgeFile:\n",
    "    \"\"\"Class used to represent the contents of an age file.\n",
    "\n",
    "    :param bytes header: the full header of the file, which should be validated\n",
    "        against the ``header_hmac`` using HMAC-SHA-256.\n",
    "    :param bytes scrypt_salt: the salt used by Scrypt when generating the wrap\n",
    "        key.\n",
    "    :param bytes scrypt_work_factor: the base-2 log of the work factor used by\n",
    "        Scrypt when generating the wrap key.\n",
    "    :param bytes encrypted_file key: the file key, encrypted using\n",
    "        ChaCha20-Poly1305 using wrap key from the Scrypt stanza.\n",
    "    :param bytes header_hmac: the HMAC of the file header, which should be\n",
    "        validated to ensure that the header has not been tampered with.\n",
    "    :param bytes payload_key_salt: the salt used by HKDF-SHA-256 for the payload\n",
    "        key.\n",
    "    :param bytes payload: the age file payload.\n",
    "    \"\"\"\n",
    "\n",
    "    header: bytes\n",
    "    scrypt_salt: bytes\n",
    "    scrypt_work_factor: int\n",
    "    encrypted_file_key: bytes\n",
    "    header_hmac: bytes\n",
    "    payload_key_salt: bytes\n",
    "    payload: bytes\n",
    "\n",
    "    @property\n",
    "    def size(self) -> int:\n",
    "        return len(self.payload)\n",
    "\n",
    "    def __repr__(self) -> str:\n",
    "        return f\"{type(self).__name__}({self.size} bytes)\"\n",
    "\n",
    "\n",
    "def parse_age_file(path) -> AgeFile:\n",
    "    with open(path, \"rb\") as f:\n",
    "        header = [f.readline().rstrip() for _ in range(4)]\n",
    "        payload = f.read()\n",
    "\n",
    "    assert header[0] == b\"age-encryption.org/v1\"\n",
    "    assert header[1].startswith(b\"-> scrypt\")\n",
    "    assert header[3].startswith(b\"--- \")\n",
    "\n",
    "    _, _, scrypt_salt, scrypt_work_factor = header[1].split(b\" \")\n",
    "    scrypt_work_factor = int(scrypt_work_factor)\n",
    "    encrypted_file_key = header[2]\n",
    "    _, header_hmac = header[3].split(b\" \")\n",
    "    header = b\"\\n\".join(header[:3]) + b\"\\n---\"\n",
    "\n",
    "    payload_key_salt = payload[:16]\n",
    "    payload = payload[16:]\n",
    "\n",
    "    return AgeFile(\n",
    "        header,\n",
    "        scrypt_salt,\n",
    "        scrypt_work_factor,\n",
    "        encrypted_file_key,\n",
    "        header_hmac,\n",
    "        payload_key_salt,\n",
    "        payload\n",
    "    )\n",
    "\n",
    "###########################################################\n",
    "\n",
    "print(\"Running setup script...\")\n",
    "\n",
    "script = \"\"\"\n",
    "#!/bin/bash\n",
    "\n",
    "set -euo pipefail\n",
    "\n",
    "DOWNLOAD_URL=\"https://github.com/FiloSottile/age/releases/download/v1.0.0/age-v1.0.0-linux-amd64.tar.gz\"\n",
    "\n",
    "if ! which age >/dev/null; then\n",
    "    pushd $(mktemp -d) >/dev/null\n",
    "    wget --quiet \"$DOWNLOAD_URL\" -O age.tar.gz\n",
    "    tar xf age.tar.gz\n",
    "\n",
    "    mv age/age /usr/local/bin/age\n",
    "    mv age/age-keygen /usr/local/bin/age-keygen\n",
    "    popd >/dev/null\n",
    "fi\n",
    "\n",
    "if [ ! -d ./age-notebook ]; then\n",
    "    git clone --depth 1 https://github.com/kernelmethod/age-notebook.git\n",
    "fi\n",
    "\"\"\"\n",
    "\n",
    "with open(\"/tmp/setup.sh\", \"w\") as f:\n",
    "    f.write(script)\n",
    "\n",
    "!bash /tmp/setup.sh"
   ]
  },
  {
   "cell_type": "markdown",
   "metadata": {
    "id": "byb2Dv6ioInT"
   },
   "source": [
    "## **General hints before you start**\n",
    "\n",
    "**_Before you start writing code, run the [\"setup\" code cell](#setup-code-cell) above!_**"
   ]
  },
  {
   "cell_type": "markdown",
   "metadata": {
    "id": "Y3h4MDgUpcvX"
   },
   "source": [
    "This homework is all about learning how different cryptographic ideas work with one another. You shouldn't need to write large amounts of code: all of the functions in the instructor's solution have $\\le 5$ lines of code except for `decrypt_payload`, which is about 20 lines.\n",
    "\n",
    "You will use Python's [`cryptography` package](https://cryptography.io/en/latest/) for this assignment. When in doubt, consult its documentation on https://cryptography.io, or come visit us during office hours. For this assignment, you'll use the following classes from `cryptography`:\n",
    "\n",
    "- `cryptography.hazmat.primitives.kdf.scrypt.Scrypt` ([docs](https://cryptography.io/en/latest/hazmat/primitives/key-derivation-functions/#cryptography.hazmat.primitives.kdf.scrypt.Scrypt))\n",
    "- `cryptography.hazmat.primitives.ciphers.aead.ChaCha20Poly1305` ([docs](https://cryptography.io/en/latest/hazmat/primitives/aead/#cryptography.hazmat.primitives.ciphers.aead.ChaCha20Poly1305))\n",
    "- `cryptography.hazmat.primitives.hmac.HMAC` ([docs](https://cryptography.io/en/latest/hazmat/primitives/mac/hmac/#cryptography.hazmat.primitives.hmac.HMAC))\n",
    "- `cryptography.hazmat.primitives.hashes.SHA256` ([docs](https://cryptography.io/en/latest/hazmat/primitives/cryptographic-hashes/#cryptography.hazmat.primitives.hashes.SHA256))\n",
    "- `cryptography.hazmat.primitives.kdf.hkdf.HKDF` ([docs](https://cryptography.io/en/latest/hazmat/primitives/key-derivation-functions/#cryptography.hazmat.primitives.kdf.hkdf.HKDF))\n",
    "\n",
    "Some other tips:\n",
    "\n",
    "**Is this your first time using Google Colab or Jupyter?** If you've never used Jupyter notebooks before (or Google Colab, which hosts Jupyter for you), check out [this intro](https://colab.research.google.com/notebooks/intro.ipynb).\n",
    "\n",
    "**Base64:** [Base64](https://en.wikipedia.org/wiki/Base64) is a data encoding format that allows you to represent arbitrary binary data as text. For instance, the Base64 encoding of the byte string\n",
    "\n",
    "```python\n",
    "b\"\\x05\\x8f\\xe2\\x1a\\x05}\\xb5\\xae\"\n",
    "```\n",
    "\n",
    "is\n",
    "\n",
    "```python\n",
    "b\"BY/iGgV9ta4=\"\n",
    "```\n",
    "\n",
    "Base64 is often convenient to use when you need some way to represent arbitrary binary data in text.\n",
    "\n",
    "For this assignment, you will need to Base64-decode some data, i.e. convert it from its Base64 representation back into bytes. For this, you will want to use the `b64decode` function I've prepared for you, which is defined in the [setup cell](#setup-code-cell) above. You can call `b64decode` by passing in the string you want to convert from Base64 to bytes. For instance:\n",
    "\n",
    "```python\n",
    ">>> b64decode(b\"BY/iGgV9ta4=\")\n",
    "b\"\\x05\\x8f\\xe2\\x1a\\x05}\\xb5\\xae\"\n",
    "```"
   ]
  },
  {
   "cell_type": "markdown",
   "metadata": {
    "id": "N50_-04v-Zrd"
   },
   "source": [
    "---\n",
    "## **Intro: an overview of the age file format** <a name=\"intro\"></a>\n",
    "\n",
    "For this assignment, we're going to look at the [age file format](https://c2sp.org/age). Your task will be to write Python code that will allow you to read the contents of an age file."
   ]
  },
  {
   "cell_type": "markdown",
   "metadata": {
    "id": "kgd7ujOClcoY"
   },
   "source": [
    "### **Introduction to age**\n",
    "\n",
    "age (pronounced like the Italian word [\"aghe\"](https://translate.google.com/?sl=it&text=aghe)) is a format for storing encrypted files. Here is what an age file looks like:"
   ]
  },
  {
   "cell_type": "markdown",
   "metadata": {
    "id": "frzSj0UdP59I"
   },
   "source": [
    "![age_file.drawio.svg](data:image/svg+xml;base64,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)"
   ]
  },
  {
   "cell_type": "markdown",
   "metadata": {
    "id": "By-qstLmRHpC"
   },
   "source": [
    "An age file consists of two pieces: the **header** and the **payload**. The **header** contains a lot of useful information about the file, including\n",
    "\n",
    "- What version of age it uses (right now there's only one version, `v1`)\n",
    "- **_Stanzas_** specifying different **_recipient types_**. These stanzas tell you who is able to decrypt the file and what method they can use to decrypt it.\n",
    "- Finally, it ends with an _**HMAC**_ (Hash-based Message Authentication Code) that verifies that an attacker hasn't messed with the header contents.\n",
    "\n",
    "The **payload** contains the actual file contents, which are encrypted with [ChaCha20-Poly1305](https://en.wikipedia.org/wiki/ChaCha20-Poly1305)."
   ]
  },
  {
   "cell_type": "markdown",
   "metadata": {
    "id": "EOxXeBx3V_WZ"
   },
   "source": [
    "### **How do you read an age file?**\n",
    "\n",
    "In general, there are multiple ways to decrypt an age file based on what stanzas are in it. To streamline this assignment we're only going to look at one kind of stanza, the scrypt stanza.\n",
    "\n",
    "The simplified process for reading an age file is going to work as follows:\n",
    "\n",
    "* First, we will take the file password and use the scrypt key derivation function to generate a **wrap key**.\n",
    "* Next, we will use the **wrap key** to decrypt the **file key** using ChaCha20-Poly1305.\n",
    "* The **file key** will be used to generate a **payload key** using HKDF-SHA-256.\n",
    "* Finally, the **payload key** will be used to decrypt the contents of the file, once again using ChaCha20-Poly1305. <a name=\"cite_ref-keys-explained\"></a>[<sup>[keys-explained]</sup>](#cite_note-keys-explained)"
   ]
  },
  {
   "cell_type": "markdown",
   "metadata": {
    "id": "RacBqYsBcoa8"
   },
   "source": [
    "![age_keys.drawio.svg](data:image/svg+xml;base64,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)"
   ]
  },
  {
   "cell_type": "markdown",
   "metadata": {
    "id": "uDHYEukI8AgN"
   },
   "source": [
    "---\n",
    "\n",
    "## **Generating the wrap key: Key derivation functions (KDFs)** <a name=\"wrap-key\"></a>\n",
    "\n",
    "Our first step in reading the contents of an age file is to generate a *wrap key*. The wrap key is a 32-byte value generated from a secret password using a [*key derivation function (KDF)*](https://en.wikipedia.org/wiki/Key_derivation_function).\n"
   ]
  },
  {
   "cell_type": "markdown",
   "metadata": {
    "id": "hqZagAU75d6c"
   },
   "source": [
    "### **What's a KDF?**\n",
    "\n",
    "A *key derivation function* is an algorithm for taking a secret, random value and turning it into one or more keys for encryption. In our case this secret value is a password, but it can also be another encryption key (as we'll see later when we talk about HKDF-SHA-256) or some other random data.\n",
    "\n",
    "A *password-based* KDF is a specialized form of KDF specially designed for generating an encryption key from a password. It is expensive (in CPU and memory costs) to compute. This makes it difficult for an attacker to try to guess the password used to generate the wrap key.\n",
    "\n",
    "Password-based KDFs almost always generate keys from a password (which is hidden from an attacker) and a random [*salt*](https://en.wikipedia.org/wiki/Salt_(cryptography)) (which is made public). The use of a salt makes it much more difficult for an attacker to build a [rainbow table](https://en.wikipedia.org/wiki/Rainbow_table) (a table of pre-computed encryption keys generated from KDFs), since they have to store a key in the table for every possible password-salt pair.\n",
    "\n",
    "The password-based KDF we'll be using to generate the wrap key in this assignment is [scrypt](https://en.wikipedia.org/wiki/Scrypt)."
   ]
  },
  {
   "cell_type": "markdown",
   "metadata": {
    "id": "h7LXDewpo-oa"
   },
   "source": [
    "### **Wait, isn't scrypt a password hashing algorithm?**\n",
    "\n",
    "You may also be familiar with scrypt as a password hashing algorithm. In fact, password-based KDFs can often also be used as password hashing algorithms, and vice-versa. scrypt isn't the only example of a KDF that is also used as a password hashing algorithm: [bcrypt](https://en.wikipedia.org/wiki/Bcrypt), [PBKDF2](https://en.wikipedia.org/wiki/PBKDF2), and [Argon2](https://en.wikipedia.org/wiki/Argon2) are all also examples of password-based KDFs that can also be used for password storage."
   ]
  },
  {
   "cell_type": "markdown",
   "metadata": {
    "id": "aBR3iPfNr_17"
   },
   "source": [
    "### **Scrypt recipient stanza**\n",
    "\n",
    "One of the recipient types specified by the age file format is the [scrypt recipient type](https://github.com/C2SP/C2SP/blob/main/age.md#recipient-stanza). Here's an example of an scrypt recipient stanza:\n",
    "\n",
    "```\n",
    "-> scrypt 8BjF/AOxcwvC4x5KPFb0cQ 18\n",
    "Zx0/vhZtBYnn2a2Qdrk8b6YqvK6jJbeYgAy4VUndIAc\n",
    "```"
   ]
  },
  {
   "cell_type": "markdown",
   "metadata": {
    "id": "FEz0APlDmIxz"
   },
   "source": [
    "![scrypt_stanza.drawio.svg](data:image/svg+xml;base64,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)"
   ]
  },
  {
   "cell_type": "markdown",
   "metadata": {
    "id": "NM1edmYFmGVO"
   },
   "source": [
    "Breaking this down, we have:\n",
    "\n",
    "- _**Stanza type:**_ this says that this is an scrypt recipient type.\n",
    "- _**Salt:**_ this is a Base64-encoded random salt.\n",
    "- _**Work factor:**_ this is the base-2 log of the CPU/memory cost parameter used by scrypt (i.e., the full cost parameter is $2^{18}$). A higher work factor makes it tougher for an attacker to crack the password, but it also makes it more expensive to compute the wrap key.\n",
    "- _**Encrypted file key:**_ this is the file key after being encrypted with the wrap key and then Base64-encoded.\n",
    "\n",
    "**The first step of reading an age file is generating a 32-byte wrap key using scrypt.** The salt given to scrypt is\n",
    "\n",
    "```python\n",
    "b\"age-encryption.org/v1\" + base64_decoded_salt\n",
    "```\n",
    "\n",
    "and the cost parameter is $n = 2^{\\text{work factor}}$.\n",
    "\n",
    "**Task:** In the following cell, you should implement the `compute_wrap_key` function to compute the wrap key using the [`Scrypt` class](https://cryptography.io/en/latest/hazmat/primitives/key-derivation-functions/#cryptography.hazmat.primitives.kdf.scrypt.Scrypt) from Python's `cryptography` package. You will take the password (as a byte string), the salt (as a Base64-encoded byte string), and the work factor as inputs, and return the wrap key as output.\n",
    "\n",
    "**Hints:**\n",
    "\n",
    "- [Documentation for the `Scrypt` class](https://cryptography.io/en/latest/hazmat/primitives/key-derivation-functions/#cryptography.hazmat.primitives.kdf.scrypt.Scrypt)\n",
    "- Make sure to use the `b64decode` function (defined in the [\"setup\" section](#setup-code-cell) of the notebook) to convert the `salt` from a text string into bytes.\n",
    "- Don't forget to prepend `b\"age-encryption.org/v1\"` to the salt before you give it to `Scrypt`.\n",
    "- You will want to pass in `r = 8` and `p = 1` as the block size and parallelization parameters to `Scrypt`."
   ]
  },
  {
   "cell_type": "code",
   "execution_count": null,
   "metadata": {
    "id": "URCV14lqs3dc"
   },
   "outputs": [],
   "source": [
    "from cryptography.hazmat.primitives.kdf.scrypt import Scrypt\n",
    "\n",
    "\n",
    "def generate_wrap_key(password: bytes, salt: bytes, work_factor: int) -> bytes:\n",
    "    \"\"\"Compute the wrap key for an scrypt recipient stanza.\n",
    "    \n",
    "    :param bytes password: the password that the wrap key is derived from.\n",
    "    :param bytes salt: the scrypt salt stored as a Base64-encoded byte string.\n",
    "    :param int work_factor: the base-two logarithm of the scrypt work factor.\n",
    "    :return: the stanza's wrap key, which is used to decrypt the file key.\n",
    "    \"\"\"\n",
    "\n",
    "    # TODO: your code here!"
   ]
  },
  {
   "cell_type": "code",
   "execution_count": null,
   "metadata": {
    "cellView": "form",
    "id": "n5EPYhHFWjfM"
   },
   "outputs": [],
   "source": [
    "# @title **Wrap key tests**\n",
    "# @markdown If you implemented `generate_wrap_key` correctly, the tests in this\n",
    "# @markdown code cell should pass.\n",
    "\n",
    "def test_wrap_key(password, salt, work_factor, expected_wrap_key) -> None:\n",
    "    wrap_key = generate_wrap_key(password, salt, work_factor)\n",
    "    assert len(wrap_key) == 32, \"Wrap key length must be 32 bytes\"\n",
    "    assert wrap_key == expected_wrap_key, (\n",
    "        \"Computed wrap key did not match actual wrap key.\\n\"\n",
    "        f\"  computed = {wrap_key!r}\\n\"\n",
    "        f\"  actual   = {expected_wrap_key!r}\\n\"\n",
    "        \"Parameters:\\n\"\n",
    "        f\"  password    = {password!r}\\n\"\n",
    "        f\"  salt        = {salt!r}\\n\"\n",
    "        f\"  work_factor = {work_factor!r}\\n\"\n",
    "    )\n",
    "\n",
    "for (i, test_case) in enumerate(TEST_CASES):\n",
    "    test_wrap_key(*test_case.test_wrap_key_args())\n",
    "    rich_print(f\"[green]Passed test case {i}\")\n",
    "\n",
    "###########################################################\n",
    "# ADDITIONAL TEST CASES\n",
    "#\n",
    "# Generated with: rage -e -p -o /dev/stdout <(echo \"work factor = 14\") | strings\n",
    "\n",
    "password = b\"fury-reunion-suggest-topic-zero-keen-neither-rate-post-banner\"\n",
    "salt = b\"5NI1z65wZbvbvSZ3yj3bpg\"\n",
    "work_factor = 14\n",
    "\n",
    "expected_wrap_key = b\";p\\xf8\\xfc\\xd1\\xf0d\\xc20\\xda\\xec\\x99)\\xb8;<\\x05\\xcd\\xa0V\\xc0\\xad\\xf1B\\xe2\\x1f\\x9dm`&jY\"\n",
    "test_wrap_key(password, salt, work_factor, expected_wrap_key)\n",
    "rich_print(\"[green]Passed additional test case 1\")\n",
    "\n",
    "###########################################################\n",
    "\n",
    "rich_print(\"[bold green]All tests passed!\")"
   ]
  },
  {
   "cell_type": "markdown",
   "metadata": {
    "id": "sVpXTtKiWtmI"
   },
   "source": [
    "---\n",
    "\n",
    "## **Decrypting the file key: ChaCha20-Poly1305** <a name=\"file-key\"></a>\n",
    "\n",
    "Now that you have the wrap key, it's time to decrypt the file key!\n"
   ]
  },
  {
   "cell_type": "markdown",
   "metadata": {
    "id": "fywS1I3K73lG"
   },
   "source": [
    "### **Authenticated encryption**\n",
    "\n",
    "An [**authenticated encryption with additional data (AEAD) algorithm**](https://en.wikipedia.org/wiki/Authenticated_encryption) is an algorithm that takes three inputs:\n",
    "\n",
    "- **A plaintext:** some data that you want to encrypt\n",
    "- **A key:** a secret string of bytes\n",
    "- **(Optional) A header:** the header is the \"additional data\" in the term \"authenticated encryption with additional data\". This is some data that you don't want to encrypt, but for which you still want to guarantee integrity (i.e. you want to ensure that an attacker cannot modify it)\n",
    "\n",
    "and returns two outputs:\n",
    "\n",
    "- **A ciphertext:** the encrypted version of the plaintext.\n",
    "- **An [authentication tag](https://en.wikipedia.org/wiki/Message_authentication_code):** Some extra bytes at the end of the encrypted data that is used to guarantee that an attacker has not modified the ciphertext or the header.\n",
    "\n",
    "The decryption algorithm takes the ciphertext, the tag, and the unencrypted header, and checks whether an attacker has modified the ciphertext or header. If not, it decrypts the ciphertext, returning the original plaintext. An AEAD algorithm usually has two parts:\n",
    "\n",
    "- a *cipher* (which encrypts the data and guarantees confidentiality), and\n",
    "- a *message authentication code (MAC)* (which guarantees integrity).\n",
    "\n",
    "[**ChaCha20-Poly1305**](https://en.wikipedia.org/wiki/ChaCha20-Poly1305) is an AEAD algorithm that combines the [ChaCha20](https://cr.yp.to/chacha.html) stream cipher with the [Poly1305](https://cr.yp.to/mac.html) MAC. It is an increasingly popular AEAD algorithm which is used in things like\n",
    "\n",
    "- OpenSSH (a common Linux service for accessing a server remotely)\n",
    "- Version 1.3 of the Transport Layer Security (TLS) protocol\n",
    "- [Wireguard](https://www.wireguard.com/), an encrypted VPN (virtual private network) tunneling protocol\n",
    "- [QUIC](https://www.rfc-editor.org/rfc/rfc9000.html), a relatively new transport protocol that has been proposed as an alternative to TCP (the Transport Control Protocol).\n",
    "\n",
    "**For this assignment, you can treat ChaCha20-Poly1305 as a black box:** you don't need to know anything about how it works internally, just how to use it."
   ]
  },
  {
   "cell_type": "markdown",
   "metadata": {
    "id": "loj9hugDrNDZ"
   },
   "source": [
    "### **Using ChaCha20-Poly1305**\n",
    "\n",
    "ChaCha20-Poly1305 takes four inputs: the three AEAD inputs mentioned earlier (a plaintext, a key, and optionally a header) and a [nonce](https://en.wikipedia.org/wiki/Cryptographic_nonce), which acts like a message ID. For each message you want to encrypt, you select a nonce (usually either randomly or using a counter) and encrypt the message with that `(key, nonce)` pair.<a name=\"cite_ref-nonces\"></a>[<sup>[nonces]</sup>](#cite_note-nonces)"
   ]
  },
  {
   "cell_type": "markdown",
   "metadata": {
    "id": "yH7Jh8z3rMRb"
   },
   "source": [
    "### **Using ChaCha20-Poly1305 to decrypt the file key**\n",
    "\n",
    "Coming back to age: now that we've computed the wrap key, we can decrypt the file key, which is stored in the \"body\" of the scrypt recipient stanza. The file key is a 16-byte value encrypted using ChaCha20-Poly1305, with a nonce equal to $0$ and no header. You can use the [`ChaCha20Poly1305` class](https://cryptography.io/en/latest/hazmat/primitives/aead/#cryptography.hazmat.primitives.ciphers.aead.ChaCha20Poly1305) from the `cryptography` package to decrypt the body.\n",
    "\n",
    "**Task:** implement the `decrypt_file_key` function below using the `ChaCha20Poly1305` class, taking the wrap key and the body of the scrypt stanza as inputs.\n",
    "\n",
    "**Hints:**\n",
    "\n",
    "- [Documentation for the ChaCha20Poly1305 class](https://cryptography.io/en/latest/hazmat/primitives/aead/#cryptography.hazmat.primitives.ciphers.aead.ChaCha20Poly1305)\n",
    "- The body is once again Base64-encoded, so make sure to decode it first!\n",
    "- The nonce should be a byte string of length 12 where all of the bytes are equal to $0$.\n",
    "- The header should be an empty byte string."
   ]
  },
  {
   "cell_type": "code",
   "execution_count": null,
   "metadata": {
    "id": "gNrpDQyKW4ij"
   },
   "outputs": [],
   "source": [
    "from cryptography.hazmat.primitives.ciphers.aead import ChaCha20Poly1305\n",
    "\n",
    "\n",
    "def decrypt_file_key(\n",
    "    wrap_key: bytes,\n",
    "    body: bytes\n",
    ") -> bytes:\n",
    "    \"\"\"Decrypt the file key from an scrypt recipient stanza.\n",
    "    \n",
    "    :param bytes wrap_key: the wrap key corresponding to the scrypt recipient\n",
    "        stanza.\n",
    "    :param bytes body: the body of the scrypt recipient stanza. This is a Base64-\n",
    "        encoded byte string that contains the file key (encrypted using\n",
    "        ChaCha20-Poly1305 with the wrap key.)\n",
    "    :return: a 16-byte file key for the age file.\n",
    "    \"\"\"\n",
    "\n",
    "    # TODO: your code here!"
   ]
  },
  {
   "cell_type": "code",
   "execution_count": null,
   "metadata": {
    "cellView": "form",
    "id": "brK6M_yvW7bM"
   },
   "outputs": [],
   "source": [
    "# @title **File key tests**\n",
    "# @markdown If you implemented `decrypt_file_key` correctly, the tests in this\n",
    "# @markdown code cell should pass.\n",
    "\n",
    "from cryptography.exceptions import InvalidTag\n",
    "\n",
    "for (i, test_case) in enumerate(TEST_CASES):\n",
    "    wrap_key = test_case.wrap_key\n",
    "    encrypted_file_key = test_case.file_key_encrypted\n",
    "\n",
    "    try:\n",
    "        file_key = decrypt_file_key(wrap_key, encrypted_file_key)\n",
    "        assert len(file_key) == 16\n",
    "        assert file_key == test_case.file_key, (\n",
    "            \"Decrypted file key did not match actual file key.\\n\"\n",
    "            f\"  decrypted file key = {file_key}\\n\"\n",
    "            f\"  actual file key    = {test_case.file_key_decrypted}\\n\"\n",
    "            f\"{test_case!r}\"\n",
    "        )\n",
    "    except InvalidTag as ex:\n",
    "        rich_print(f\"[bold red]InvalidTag exception raised in test case {i + 1}\")\n",
    "        rich_print(\n",
    "            \"[red]This indicates that the message authentication code was not \"\n",
    "            \"verified as authentic by ChaCha20-Poly1305. Make sure that you \"\n",
    "            \"are performing decryption correctly.\"\n",
    "        )\n",
    "        raise ex\n",
    "\n",
    "    rich_print(f\"[green]Passed test case {i}\")\n",
    "\n",
    "rich_print(\"[bold green]All tests passed!\")"
   ]
  },
  {
   "cell_type": "markdown",
   "metadata": {
    "id": "jNj8oPIpM1Fa"
   },
   "source": [
    "---\n",
    "\n",
    "## **Generating the payload key: KDFs redux** <a name=\"payload-key\"></a>\n",
    "\n",
    "Before we can decrypt the payload, we have to convert the *file key* into a *payload key*. For this, we'll use HKDF-SHA-256."
   ]
  },
  {
   "cell_type": "markdown",
   "metadata": {
    "id": "7c29ObniOxiI"
   },
   "source": [
    "### **HMAC-based KDFs**\n",
    "\n",
    "The file key is a 128-bit value *TODO: finish justification*\n",
    "\n",
    "_**HMAC-based key derivation functions**_ are a class of KDFs that use HMAC to generate a key from a random string of data. Unlike Scrypt (which we used earlier to generate the wrap key), you wouldn't want to use HKDF to generate a key from a password. Instead, HKDF is great for lengthening keys, turning one key into many, and for [key exchange protocols](https://en.wikipedia.org/wiki/Diffie%E2%80%93Hellman_key_exchange).\n",
    "\n",
    "HKDF takes a `salt` and an `info` parameter. The exact meaning of these parameters is a little subtle; there's a [great blog post](https://soatok.blog/2021/11/17/understanding-hkdf/) explaining the difference between them <a name=\"cite_ref-RFC5869\"></a>[<sup>[RFC 5869]</sup>](#cite_note-RFC5869). One thing to know is that `info` is the parameter that allows you to turn one key into multiple. In this part we will generate the payload key by passing in `info = b\"payload\"`, and in the next part we will create a key to authenticate the file header using `info = b\"header\"`."
   ]
  },
  {
   "cell_type": "markdown",
   "metadata": {
    "id": "Q_PTJm0FdgUL"
   },
   "source": [
    "### **HKDF in age**\n",
    "\n",
    "[age uses HKDF-SHA-256](https://github.com/C2SP/C2SP/blob/main/age.md#payload) (HKDF based on HMAC-SHA-256, which we will discuss next) to lengthen the 16-byte file key into a 32-byte key that can be used by ChaCha20-Poly1305. It passes in the first 16 bytes of the payload as the salt, and the byte string `b\"payload\"` as the info parameter.\n",
    "\n",
    "**Task:** use HKDF-SHA-256 to generate the payload key from the file key.\n",
    "\n",
    "**Hints:**\n",
    "\n",
    "- [Documentation for the `HKDF` class](https://cryptography.io/en/latest/hazmat/primitives/key-derivation-functions/#cryptography.hazmat.primitives.kdf.hkdf.HKDF)"
   ]
  },
  {
   "cell_type": "code",
   "execution_count": null,
   "metadata": {
    "id": "DZHuxtrIPp4s"
   },
   "outputs": [],
   "source": [
    "from cryptography.hazmat.primitives.hashes import SHA256\n",
    "from cryptography.hazmat.primitives.kdf.hkdf import HKDF\n",
    "\n",
    "\n",
    "def generate_payload_key(file_key: bytes, salt: bytes) -> bytes:\n",
    "    \"\"\"Generate the age payload key from its file key using HKDF-SHA-256.\n",
    "\n",
    "    :param bytes file_key: a 16-byte file key.\n",
    "    :param bytes salt: a salt for HKDF, read from the first 16 bytes of the age\n",
    "        file payload.\n",
    "    :return: the 32-byte payload key.\n",
    "    \"\"\"\n",
    "\n",
    "    # TODO: your code here!"
   ]
  },
  {
   "cell_type": "code",
   "execution_count": null,
   "metadata": {
    "cellView": "form",
    "id": "sEE7SxpnPuA9"
   },
   "outputs": [],
   "source": [
    "# @title **Payload key tests**\n",
    "# @markdown If you implemented `generate_payload_key` correctly, the tests in\n",
    "# @markdown this code cell should pass\n",
    "\n",
    "for (i, test_case) in enumerate(TEST_CASES):\n",
    "    file_key = test_case.file_key\n",
    "    salt = test_case.payload[:16]\n",
    "\n",
    "    payload_key = generate_payload_key(file_key, salt)\n",
    "    assert len(payload_key) == 32, \"The payload key must be 32 bytes long.\"\n",
    "    assert payload_key == test_case.payload_key, (\n",
    "        \"Computed payload key did not match actual payload key.\\n\"\n",
    "        f\"  computed payload key = {payload_key}\\n\"\n",
    "        f\"  actual payload key   = {test_case.payload_key}\\n\"\n",
    "        f\"{test_case!r}\"\n",
    "    )\n",
    "    rich_print(f\"[green]Passed test case {i}\")\n",
    "\n",
    "rich_print(\"[bold green]All tests passed!\")"
   ]
  },
  {
   "cell_type": "markdown",
   "metadata": {
    "id": "zqdi1poJ6Urt"
   },
   "source": [
    "---\n",
    "\n",
    "## **HMAC: authenticating the header** <a name=\"header-hmac\"></a>\n",
    "\n",
    "There's one thing we missed: what if an attacker decided to mess with the header of the age file? Before we decrypt the payload, we'll want to verify the integrity of the file header."
   ]
  },
  {
   "cell_type": "markdown",
   "metadata": {
    "id": "8TNL5h5l8dnI"
   },
   "source": [
    "### **Going back to the header**\n",
    "\n",
    "Here's an example of the full header of an age file:\n",
    "\n",
    "```\n",
    "age-encryption.org/v1\n",
    "-> scrypt 8BjF/AOxcwvC4x5KPFb0cQ 18\n",
    "Zx0/vhZtBYnn2a2Qdrk8b6YqvK6jJbeYgAy4VUndIAc\n",
    "--- WmgPk/80rjupQqVNhLn47/4MRimwxusk4A/NMbz5qjM\n",
    "```\n",
    "\n",
    "Following this header is the binary data containing the encrypted file contents.\n",
    "\n",
    "One thing that we haven't done yet is verify that an attacker hasn't messed with the header. To check the header's integrity, we will use a message authentication code (MAC), in this case *HMAC-SHA-256*."
   ]
  },
  {
   "cell_type": "markdown",
   "metadata": {
    "id": "iRdP1gQZ_XMy"
   },
   "source": [
    "![full_age_header.drawio.svg](data:image/svg+xml;base64,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)"
   ]
  },
  {
   "cell_type": "markdown",
   "metadata": {
    "id": "5or77rf69euA"
   },
   "source": [
    "### **HMAC**\n",
    "\n",
    "[*Hash-based message authentication codes (HMACs)*](https://en.wikipedia.org/wiki/HMAC) are ways of turning cryptographic hash functions into MACs. Like other message authentication codes, HMAC takes two inputs:\n",
    "\n",
    "- a secret key, and\n",
    "- a message that should be authenticated.\n",
    "\n",
    "HMAC generates a byte string that \n",
    "\n",
    "HMAC generates a byte string that acts like a \"signature\" for that key and message. It is extremely difficult for an attacker to forge a signature for a different message without knowing the key."
   ]
  },
  {
   "cell_type": "markdown",
   "metadata": {
    "id": "m6w01-oH7xxg"
   },
   "source": [
    "### **Verifying the header with HMAC-SHA-256**\n",
    "\n",
    "[age includes a header MAC](https://github.com/C2SP/C2SP/blob/main/age.md#header-mac) created with HMAC-SHA-256 (HMAC based on the SHA-256 hash function) and then encoded with Base64. It uses this HMAC to verify that the file header hasn't been tampered with. To compute HMAC-SHA-256 we're going to need the [`HMAC` class](https://cryptography.io/en/latest/hazmat/primitives/mac/hmac/#cryptography.hazmat.primitives.hmac.HMAC) and the [`SHA256` class](https://cryptography.io/en/latest/hazmat/primitives/cryptographic-hashes/?highlight=sha256#cryptography.hazmat.primitives.hashes.SHA256). Make sure to check out the documentation for `HMAC` to learn how it works.\n",
    "\n",
    "We're also going to need to generate a key that we'll use to create the signature. For that we'll use HKDF-SHA-256 again, like we did in the last problem. If you got [`HKDF`](https://cryptography.io/en/latest/hazmat/primitives/key-derivation-functions/#cryptography.hazmat.primitives.kdf.hkdf.HKDF) working previously you can almost exactly copy your code to the cell below. There are two differences in how we use `HKDF` for this problem, though:\n",
    "\n",
    "- The salt we use is an empty byte string, `b\"\"`, and\n",
    "- The `info` parameter is now the byte string `b\"header\"`.\n",
    "\n",
    "**Task:** Implement the `generate_hmac_key` and `is_valid_header` functions below to take the file header, the file key, and the byte string\n",
    "\n",
    "**Hints:**\n",
    "\n",
    "- [Documentation for the `HMAC` class](https://cryptography.io/en/latest/hazmat/primitives/mac/hmac/#cryptography.hazmat.primitives.hmac.HMAC)\n",
    "- Once again, remember to Base64-decode the MAC given to `is_valid_header`\n",
    "- `generate_hmac_key` should be almost exactly the same as `generate_payload_key`, except you should use different `salt` and `info` parameters."
   ]
  },
  {
   "cell_type": "code",
   "execution_count": null,
   "metadata": {
    "id": "hcZREw3zCzfo"
   },
   "outputs": [],
   "source": [
    "from cryptography.hazmat.primitives.hashes import SHA256\n",
    "from cryptography.hazmat.primitives.hmac import HMAC\n",
    "from cryptography.hazmat.primitives.kdf.hkdf import HKDF\n",
    "\n",
    "def generate_hmac_key(file_key: bytes) -> bytes:\n",
    "    \"\"\"Generate the key used for the age header HMAC using HKDF-SHA-256.\n",
    "\n",
    "    :param bytes file_key: the file key.\n",
    "    :return: returns a 32-byte byte string, computed using HKDF-SHA-256 with an\n",
    "        empty salt and the info parameter b\"header\".\n",
    "    \"\"\"\n",
    "\n",
    "    # TODO: your code here!\n",
    "\n",
    "\n",
    "def is_valid_header(header: bytes, hmac_key: bytes, mac: bytes) -> bool:\n",
    "    \"\"\"Determine whether or not the age file header is valid by checking\n",
    "    its MAC.\n",
    "\n",
    "    :param bytes header: the file header, as a byte string.\n",
    "    :param bytes hmac_key: the key used for HMAC, computed using the\n",
    "        generate_hmac_key function.\n",
    "    :param bytes mac: the MAC stored in the header, stored as a Base64-encoded\n",
    "        byte string.\n",
    "    :return: return True if the input MAC matches the true MAC.\n",
    "    \"\"\"    \n",
    "\n",
    "    # TODO: your code here!"
   ]
  },
  {
   "cell_type": "code",
   "execution_count": null,
   "metadata": {
    "cellView": "form",
    "id": "P5i-UvRRIugg"
   },
   "outputs": [],
   "source": [
    "# @title **Header MAC test cases**\n",
    "# @markdown If you implemented the `generate_hmac_key` and `is_valid_header`\n",
    "# @markdown functions correctly, the tests in this code cell should pass.\n",
    "\n",
    "from secrets import token_bytes\n",
    "\n",
    "for (i, test_case) in enumerate(TEST_CASES):\n",
    "    header = test_case.generate_header()\n",
    "    header_mac = test_case.header_mac\n",
    "\n",
    "    hmac_key = generate_hmac_key(test_case.file_key)\n",
    "    assert len(hmac_key) == 32, \"HMAC key must be 32 bytes long\"\n",
    "\n",
    "    valid = is_valid_header(header, hmac_key, header_mac)\n",
    "    assert valid, \"Header was not authenticated\"\n",
    "\n",
    "    rich_print(f\"[green]Passed test case {i}\")\n",
    "\n",
    "# Pass in some headers that are explicitly invalid\n",
    "\n",
    "for (i, test_case) in enumerate(TEST_CASES):\n",
    "    header = test_case.generate_header()\n",
    "    header_mac = b64encode(token_bytes(32))\n",
    "    hmac_key = generate_hmac_key(test_case.file_key)\n",
    "\n",
    "    valid = is_valid_header(header, hmac_key, header_mac)\n",
    "    assert not valid, \"Bad header was incorrectly authenticated\"\n",
    "\n",
    "    rich_print(f\"[green]Passed erroneous test case {i}\")"
   ]
  },
  {
   "cell_type": "markdown",
   "metadata": {
    "id": "iN0VMB8TVC7v"
   },
   "source": [
    "---\n",
    "\n",
    "## **Decrypting the payload** <a name=\"payload-decryption\"></a>\n",
    "\n",
    "Final step! We've created the payload key and verified that the age file header looked okay. Now we can finally read the contents of the age file."
   ]
  },
  {
   "cell_type": "markdown",
   "metadata": {
    "id": "vUoUwrlQqA94"
   },
   "source": [
    "### **The payload format**\n",
    "\n",
    "The final step is to decrypt the payload using the payload key. We aren't going to use any new tools from `cryptography` for this step, we're just going to be using the [`ChaCha20Poly1305` class](https://cryptography.io/en/latest/hazmat/primitives/aead/#cryptography.hazmat.primitives.ciphers.aead.ChaCha20Poly1305) again.\n",
    "\n",
    "[When an age file is created](https://github.com/C2SP/C2SP/blob/main/age.md#payload), the payload is split into chunks of size 64KiB (KiB = \"kibibyte\" = $1024$ bytes, so the chunk size is $64 \\cdot 1024 = 65,536$ bytes); note that the last chunk may have $< 65,536$ bytes. These chunks are then encrypted using ChaCha20-Poly1305. The twelve-byte nonce given to ChaCha20-Poly1305 is split into two pieces:\n",
    "\n",
    "- The first 11 bytes are a big-endian counter, which is equal to $0$ for the first chunk, $1$ for the second chunk, $2$ for the third chunk, and so on.\n",
    "- The last byte is equal to $0$ for every chunk except the last, where it's equal to $1$.\n",
    "\n",
    "To decrypt the contents of an age file, you'll want to iterate over it in chunks and decrypt each chunk using ChaCha20-Poly1305 using the correct nonce for that chunk.\n",
    "\n",
    "In practice, this chunking makes it easier to extract data from a random point in the file when the payload is very large. Instead of having to decrypt the entire payload in order to check its integrity, you only have to decrypt the chunk containing the data you want."
   ]
  },
  {
   "cell_type": "markdown",
   "metadata": {
    "id": "0JDufHyM3w_W"
   },
   "source": [
    "![payload_encryption.drawio.svg](data:image/svg+xml;base64,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)"
   ]
  },
  {
   "cell_type": "markdown",
   "metadata": {
    "id": "YmTgeuMk2241"
   },
   "source": [
    "**Task:** Implement the `decrypt_payload` function below by using ChaCha20-Poly1305 to decrypt the payload as described above. Your function should accept two inputs, the payload (which is a long string of bytes) and the payload key. If you need to, make sure to reference the [documentation of the `ChaCha20Poly1305`](https://cryptography.io/en/latest/hazmat/primitives/aead/#cryptography.hazmat.primitives.ciphers.aead.ChaCha20Poly1305) class again so that you know how to decrypt the payload.\n",
    "\n",
    "**Hints:**\n",
    "\n",
    "To implement this function, you should iterate over the payload in chunks of 65,536 + 16 bytes (the last 16 bytes are the Poly1305 MAC that ChaCha20Poly1305 appends to each chunk). You should keep a counter of which chunk you're on and then use\n",
    "\n",
    "```python\n",
    "counter.to_bytes(length=11, byteorder=\"big\")\n",
    "```\n",
    "\n",
    "  to convert it into an 11-byte big-endian byte string.\n",
    "- In Python, you can create a single byte equal to zero with `b\"\\x00\"`, and a single byte equal to one with `b\"\\x01\"`.\n",
    "- We don't attach any additional/associated data to our chunks, so you can pass in `b\"\"` as the `associated_data` parameter to `ChaCha20Poly1305`'s `decrypt` method."
   ]
  },
  {
   "cell_type": "code",
   "execution_count": null,
   "metadata": {
    "id": "CqR-yNgys3YB"
   },
   "outputs": [],
   "source": [
    "from cryptography.hazmat.primitives.ciphers.aead import ChaCha20Poly1305\n",
    "\n",
    "# NOTE: we set the chunk size to 65,536 + 16 because the last 16 bytes of each\n",
    "# chunk are always a Poly1305 tag.\n",
    "CHUNK_SIZE: int = 64 * 1024 + 16\n",
    "\n",
    "def decrypt_payload(payload_key: bytes, payload: bytes) -> bytes:\n",
    "    \"\"\"Decrypt the payload of an age file.\n",
    "\n",
    "    :param bytes payload_key: the key for the ChaCha20-Poly1305 cipher used to\n",
    "        encrypt the payload.\n",
    "    :param bytes payload: the payload of the age file.\n",
    "    :return: the decrypted payload as a byte string.\n",
    "    \"\"\"\n",
    "\n",
    "    # TODO: your code here!"
   ]
  },
  {
   "cell_type": "code",
   "execution_count": null,
   "metadata": {
    "cellView": "form",
    "id": "tUwKYp7grJL4"
   },
   "outputs": [],
   "source": [
    "# @title **Payload decryption tests**\n",
    "# @markdown If you implemented `decrypt_payload` correctly, the tests in this\n",
    "# @markdown code cell should pass.\n",
    "\n",
    "from cryptography.exceptions import InvalidTag\n",
    "\n",
    "for (i, test_case) in enumerate(TEST_CASES):\n",
    "    payload_key = test_case.payload_key\n",
    "    payload = test_case.payload[16:]\n",
    "\n",
    "    try:\n",
    "        file_contents = decrypt_payload(payload_key, payload)\n",
    "        rich_print(f\"[green]Passed test case {i}\")\n",
    "        rich_print(f\"  [green]file {i} contents: [bold]{file_contents}\")\n",
    "    except InvalidTag as ex:\n",
    "        rich_print(f\"[bold red]InvalidTag exception raised in test case {i + 1}\")\n",
    "        rich_print(\n",
    "            \"[red]This indicates that the message authentication code was not \"\n",
    "            \"verified as authentic by ChaCha20-Poly1305. Make sure that you \"\n",
    "            \"are performing decryption correctly.\"\n",
    "        )\n",
    "        raise ex\n",
    "\n",
    "rich_print(\"[blue]Running test case with 70Kb file...\")\n",
    "parsed_file = parse_age_file(\"age-notebook/tests/large-test/output.age\")\n",
    "payload_key = b\"\\xc8\\xb4Z\\x02\\xc6q\\xcfV\\xdc\\x8f\\xc2\\x15\\x83\\xe2Ci\\xc0\\xf8\\xac^X\\x1e\\xc8\\x1c\\x1a\\x9e\\x9b\\xc9\\x9er\\xc0{\"\n",
    "\n",
    "try:\n",
    "    file_contents = decrypt_payload(payload_key, parsed_file.payload)\n",
    "    assert len(file_contents) == 70000, (\n",
    "        \"Output generated for 70Kb file test had incorrect length (expected \"\n",
    "        f\"len = 70000, got len = {len(file_contents)}\"\n",
    "    )\n",
    "    assert file_contents == b\"\\x00\" * 70000, (\n",
    "        \"Output generated for 70Kb file test was incorrect\"\n",
    "    )\n",
    "except InvalidTag as ex:\n",
    "    rich_print(f\"[bold red]InvalidTag exception raised in large file test case\")\n",
    "    rich_print(\n",
    "        \"[red]This indicates that the message authentication code was not \"\n",
    "        \"verified as authentic by ChaCha20-Poly1305. Make sure that you \"\n",
    "        \"are performing decryption correctly.\"\n",
    "    )\n",
    "    raise ex\n",
    "\n",
    "rich_print()\n",
    "rich_print(\"[bold green]All tests passed!\")"
   ]
  },
  {
   "cell_type": "markdown",
   "metadata": {
    "id": "KHSYomr_X6FS"
   },
   "source": [
    "---\n",
    "\n",
    "## **Putting it all together** <a name=\"e2e-demo\"></a>\n",
    "\n",
    "Now we've written all of the functions we need to read an age file! In this last step, we're going to put them all together.\n",
    "\n"
   ]
  },
  {
   "cell_type": "markdown",
   "metadata": {
    "id": "-ALgOXEyORS-"
   },
   "source": [
    "### **Reading an age file**\n",
    "\n",
    "Let's go back to the beginning and review the steps required to read an age file:\n",
    "\n",
    "1. Extract the stanzas and encrypted payload from the file. In our simplified version of age, the file just has a single scrypt stanza.\n",
    "2. Take a password as input, and use scrypt to generate a wrap key (`generate_wrap_key`)\n",
    "3. Use the wrap key to decrypt the body of the scrypt stanza with ChaCha20-Poly1305, getting a file key (`generate_file_key`)\n",
    "4. Use the file key to generate the header key (`generate_header_key`) and check the validity of the header using HMAC-SHA-256 (`is_valid_header`)\n",
    "5. Use HKDF-SHA-256 to generate the payload key from the file key (`generate_payload_key`)\n",
    "6. Use ChaCha20-Poly1305 to decrypt the payload (`decrypt_payload`)\n",
    "\n",
    "Now comes the final part: using all of the functions you've implemented in this assignment, take the contents of an age file and decrypt its payload. Your function should take an `AgeFile` instance as input, which is a class roughly defined as follows (you can see the \"setup\" code cell for the precise definition):\n",
    "\n",
    "```python\n",
    "class AgeFile:\n",
    "    \"\"\"Class used to represent the contents of an age file.\n",
    "\n",
    "    :param bytes header: the full header of the file, which should be validated\n",
    "        against the ``header_hmac`` using HMAC-SHA-256.\n",
    "    :param bytes scrypt_salt: the salt used by Scrypt when generating the wrap\n",
    "        key.\n",
    "    :param bytes scrypt_work_factor: the base-2 log of the work factor used by\n",
    "        Scrypt when generating the wrap key.\n",
    "    :param bytes encrypted_file key: the file key, encrypted using\n",
    "        ChaCha20-Poly1305 using wrap key from the Scrypt stanza.\n",
    "    :param bytes header_hmac: the HMAC of the file header, which should be\n",
    "        validated to ensure that the header has not been tampered with.\n",
    "    :param bytes payload_key_salt: the salt used by HKDF-SHA-256 for the payload\n",
    "        key.\n",
    "    :param bytes payload: the age file payload.\n",
    "    \"\"\"\n",
    "\n",
    "    header: bytes\n",
    "    scrypt_salt: bytes\n",
    "    scrypt_work_factor: int\n",
    "    encrypted_file_key: bytes\n",
    "    header_hmac: bytes\n",
    "    payload_key_salt: bytes\n",
    "    payload: bytes\n",
    "```\n",
    "\n",
    "\n",
    "You will need to use each of the functions you've written for this assignment:\n",
    "\n",
    "- `generate_wrap_key`\n",
    "- `decrypt_file_key`\n",
    "- `generate_hmac_key`\n",
    "- `is_valid_header`\n",
    "- `generate_payload_key`\n",
    "- `decrypt_payload`\n",
    "\n",
    "**Task:** implement `read_age_file` in the cell below. It should take the password and an instance of the `AgeFile` class as input, and\n",
    "\n",
    "- raise an exception if the header has been tampered with, otherwise\n",
    "- it should return the decrypted payload as output."
   ]
  },
  {
   "cell_type": "code",
   "execution_count": null,
   "metadata": {
    "id": "0q5RCYaoX904"
   },
   "outputs": [],
   "source": [
    "def read_age_file(password: bytes, age_file: AgeFile) -> bytes:\n",
    "    \"\"\"Read the contents of an age file.\n",
    "\n",
    "    :param bytes password: the password for the age file.\n",
    "    :param AgeFile age_file: an ``AgeFile`` instance containing the various\n",
    "        components of the age file.\n",
    "    :return: the decrypted payload.\n",
    "    :raises Exception: if the header is invalid.\n",
    "    \"\"\"\n",
    "\n",
    "    # TODO: your code here!"
   ]
  },
  {
   "cell_type": "code",
   "execution_count": null,
   "metadata": {
    "cellView": "form",
    "id": "8CVq1jstZe6n"
   },
   "outputs": [],
   "source": [
    "# @title **Age file reading tests**\n",
    "# @markdown If you implemented `read_age_file` correctly, the tests in this\n",
    "# @markdown code cell should all pass.\n",
    "\n",
    "from pathlib import Path\n",
    "\n",
    "tests = Path.cwd() / \"age-notebook\" / \"tests\"\n",
    "\n",
    "def run_test_case(name: str) -> bytes:\n",
    "    output_path = tests / name / \"output.age\"\n",
    "    rich_print(f\"[blue]Reading {str(output_path)}\")\n",
    "    age_file = parse_age_file(output_path)\n",
    "    with open(tests / name / \"passphrase.txt\", \"rb\") as f:\n",
    "        passphrase = f.readline().rstrip()\n",
    "\n",
    "    return read_age_file(passphrase, age_file)\n",
    "\n",
    "\n",
    "for name in (\"test1\", \"test2\", \"test3\", \"large-test\"):\n",
    "    with open(tests / name / \"input\", \"rb\") as f:\n",
    "        input_data = f.read()\n",
    "    contents = run_test_case(name)\n",
    "    assert contents == input_data, f\"Failed test {name}\"\n",
    "    rich_print(f\"[green]Passed test [bold]{name}\")\n",
    "\n",
    "# Run a test for a file with a bad HMAC\n",
    "raised_error: bool = False\n",
    "try:\n",
    "    run_test_case(\"erroneous-test\")\n",
    "except:\n",
    "    raised_error = True\n",
    "\n",
    "assert raised_error, (\n",
    "    \"File with bad HMAC did not raise exception\"\n",
    ")\n",
    "print(\"[green]Passed test [bold]erroneous-test\")\n",
    "print(\"[blue]Running final test case\")\n",
    "output = run_test_case(\"final-test\")\n",
    "print(f\"[green]Decrypted content: [bold]{output}\")"
   ]
  },
  {
   "cell_type": "markdown",
   "metadata": {
    "id": "y9SKttNkcSM3"
   },
   "source": [
    "---\n",
    "\n",
    "## Footnotes\n",
    "\n",
    "### <a name=\"cite_note-keys-explained\"></a>**_Keys explained:_** [(^)](#cite_ref-keys-explained)\n",
    "\n",
    "You might be wondering why there are so many keys involved in this process. Why couldn't we just stop after generating the wrap key in the first step?\n",
    "\n",
    "The answer is unfortunately a complicated bit of cryptography engineering that can't be easily explained without a deeper cryptographic background. Suffice it to say, the wrap key $\\to$ file key conversion is needed to implement a core feature of age that allows you to use asymmetric cryptography to decrypt the file. And it turns out that we need one key to decrypt the file and another key to authenticate the header, hence an additional file key $\\to$ payload key conversion.\n",
    "\n",
    "### <a name=\"cite_note-nonces\"></a> **_The dangers of reusing nonces:_** [(^)](#cite_ref-nonces)\n",
    "\n",
    "**It is _extremely_ important that you never use the same (key, nonce) pair to encrypt two different messages!** An attacker who intercepts two messages encrypted using the same (key, nonce) pair can decrypt the messages. Recalling the discussion on [one-time pads](https://en.wikipedia.org/wiki/One-time_pad), if you encrypt two messages $m_1$ and $m_2$ with the same one-time pad to get ciphertexts $C_1$ and $C_2$, an attacker can learn the XOR of the messages by calculating\n",
    "\n",
    "$$\n",
    "C_1 \\oplus C_2 = (P \\oplus m_1) \\oplus (P \\oplus m_2) = m_1 \\oplus m_2\n",
    "$$\n",
    "\n",
    "(where $\\oplus =$ XOR). ChaCha20 works by taking a (key, nonce) pair and turning it into a one-time pad up to 256 GB long, so if you reuse a key and nonce to encrypt two different messages, you are effectively using the same one-time pad twice. For a real-world example of where nonce reuse had severe consequences, you can look at the [2010 hack of Sony's Playstation 3](https://archive.org/details/console-hacking-2010), which gave hackers access to the keys required to run any software on the console.\n",
    "\n",
    "### <a name=\"cite_note-RFC5869\"></a>**_RFC 5869:_** [(^)](#cite_ref-RFC5869)\n",
    "\n",
    "If you're feeling up for a challenge, you can also try reading [RFC 5869](https://datatracker.ietf.org/doc/html/rfc5869), which specifies how HKDF works."
   ]
  }
 ],
 "metadata": {
  "colab": {
   "collapsed_sections": [
    "byb2Dv6ioInT",
    "N50_-04v-Zrd",
    "uDHYEukI8AgN",
    "sVpXTtKiWtmI",
    "jNj8oPIpM1Fa",
    "zqdi1poJ6Urt",
    "iN0VMB8TVC7v",
    "KHSYomr_X6FS"
   ],
   "provenance": []
  },
  "kernelspec": {
   "display_name": "Python 3",
   "name": "python3"
  },
  "language_info": {
   "name": "python"
  }
 },
 "nbformat": 4,
 "nbformat_minor": 0
}
